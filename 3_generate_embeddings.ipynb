{
 "cells": [
  {
   "cell_type": "code",
   "execution_count": null,
   "id": "c629745f-2fdd-417a-bd95-4f82e3c0885d",
   "metadata": {},
   "outputs": [],
   "source": []
  },
  {
   "cell_type": "code",
   "execution_count": 2,
   "id": "f07b155e-beb8-4d3e-8940-1f7b3941f22d",
   "metadata": {},
   "outputs": [],
   "source": [
    "import pandas as pd\n",
    "import torch\n",
    "import numpy as np\n",
    "from tqdm import tqdm\n",
    "from transformers import (\n",
    "    AutoTokenizer,\n",
    "    AutoModelForSequenceClassification,\n",
    "    BertConfig,\n",
    "    BertForSequenceClassification\n",
    ")\n",
    "\n",
    "class LLMEmbeddingGenerator:\n",
    "    def __init__(self, batch_size=8, max_len=512, kmer_size=6):\n",
    "        self.batch_size = batch_size\n",
    "        self.max_len = max_len\n",
    "        self.kmer_size = kmer_size\n",
    "        self.device = torch.device(\"cuda\" if torch.cuda.is_available() else \"cpu\")\n",
    "\n",
    "    def _save_embeddings(self, df, emb_tensor, id_col, output_csv):\n",
    "        emb_cols = [f\"emb_{i}\" for i in range(emb_tensor.shape[1])]\n",
    "        emb_df = pd.DataFrame(emb_tensor, columns=emb_cols)\n",
    "        emb_df.insert(0, id_col, df[id_col].values)\n",
    "        emb_df.to_csv(output_csv, index=False)\n",
    "        print(f\"Saved embeddings to {output_csv}\")\n",
    "\n",
    "    def generate_embeddings_NT(self, model_dir, input_tsv, output_csv, id_col=\"VariationID\", seq_col=\"Sequence\"):\n",
    "        print(f\"=== [Nucleotide Transformer] {input_tsv} → {output_csv}\")\n",
    "        df = pd.read_csv(input_tsv, sep=\"\\t\", dtype={seq_col: str})\n",
    "        print(f\"Loaded {len(df)} sequences\")\n",
    "        tokenizer = AutoTokenizer.from_pretrained(model_dir, local_files_only=True)\n",
    "        model = AutoModelForSequenceClassification.from_pretrained(model_dir, local_files_only=True)\n",
    "        model.to(self.device).eval()\n",
    "\n",
    "        all_embeddings = []\n",
    "        for i in tqdm(range(0, len(df), self.batch_size)):\n",
    "            batch_seqs = df[seq_col].iloc[i:i+self.batch_size].tolist()\n",
    "            inputs = tokenizer(\n",
    "                batch_seqs,\n",
    "                return_tensors=\"pt\",\n",
    "                padding=\"max_length\",\n",
    "                truncation=True,\n",
    "                max_length=self.max_len,\n",
    "            )\n",
    "            inputs = {k: v.to(self.device) for k, v in inputs.items()}\n",
    "            with torch.no_grad():\n",
    "                outputs = model(**inputs, output_hidden_states=True, return_dict=True)\n",
    "                last_hidden = outputs.hidden_states[-1]\n",
    "                emb_batch = last_hidden.mean(dim=1).cpu().numpy()\n",
    "            all_embeddings.append(emb_batch)\n",
    "\n",
    "        emb_tensor = np.vstack(all_embeddings)\n",
    "        print(\"Embedding shape:\", emb_tensor.shape)\n",
    "        self._save_embeddings(df, emb_tensor, id_col, output_csv)\n",
    "\n",
    "    def generate_embeddings_DNABERT_6(self, model_dir, input_tsv, output_csv, id_col=\"VariationID\", seq_col=\"Sequence\"):\n",
    "        print(f\"=== [DNABERT-6] {input_tsv} → {output_csv}\")\n",
    "        def seq_to_kmers(seq, k=self.kmer_size):\n",
    "            seq = str(seq).strip().upper()\n",
    "            if len(seq) < k:\n",
    "                return seq\n",
    "            return \" \".join(seq[i:i+k] for i in range(len(seq) - k + 1))\n",
    "\n",
    "        df = pd.read_csv(input_tsv, sep=\"\\t\", dtype={seq_col: str})\n",
    "        print(f\"Loaded {len(df)} sequences\")\n",
    "        df[\"kmers\"] = df[seq_col].apply(seq_to_kmers)\n",
    "\n",
    "        config = BertConfig.from_json_file(f\"{model_dir}/config.json\")\n",
    "        tokenizer = AutoTokenizer.from_pretrained(model_dir, local_files_only=True)\n",
    "        model = BertForSequenceClassification.from_pretrained(model_dir, config=config, local_files_only=True)\n",
    "        model.to(self.device).eval()\n",
    "\n",
    "        all_embeddings = []\n",
    "        for i in tqdm(range(0, len(df), self.batch_size)):\n",
    "            batch_seqs = df[\"kmers\"].iloc[i:i+self.batch_size].tolist()\n",
    "            inputs = tokenizer(\n",
    "                batch_seqs,\n",
    "                return_tensors=\"pt\",\n",
    "                padding=\"max_length\",\n",
    "                truncation=True,\n",
    "                max_length=self.max_len,\n",
    "            )\n",
    "            inputs = {k: v.to(self.device) for k, v in inputs.items()}\n",
    "            with torch.no_grad():\n",
    "                outputs = model(**inputs, output_hidden_states=True, return_dict=True)\n",
    "                last_hidden = outputs.hidden_states[-1]\n",
    "                emb_batch = last_hidden.mean(dim=1).cpu().numpy()\n",
    "            all_embeddings.append(emb_batch)\n",
    "\n",
    "        emb_tensor = np.vstack(all_embeddings)\n",
    "        print(\"Embedding shape:\", emb_tensor.shape)\n",
    "        self._save_embeddings(df, emb_tensor, id_col, output_csv)\n",
    "\n",
    "    def generate_embeddings_GROVER(self, model_dir, input_tsv, output_csv, id_col=\"VariationID\", seq_col=\"Sequence\"):\n",
    "        print(f\"=== [GROVER] {input_tsv} → {output_csv}\")\n",
    "        df = pd.read_csv(input_tsv, sep=\"\\t\", dtype={seq_col: str})\n",
    "        print(f\"Loaded {len(df)} sequences\")\n",
    "        tokenizer = AutoTokenizer.from_pretrained(model_dir, local_files_only=True)\n",
    "        model = AutoModelForSequenceClassification.from_pretrained(model_dir, local_files_only=True)\n",
    "        model.to(self.device).eval()\n",
    "\n",
    "        all_embeddings = []\n",
    "        for i in tqdm(range(0, len(df), self.batch_size)):\n",
    "            batch_seqs = df[seq_col].iloc[i:i+self.batch_size].tolist()\n",
    "            inputs = tokenizer(\n",
    "                batch_seqs,\n",
    "                return_tensors=\"pt\",\n",
    "                padding=\"max_length\",\n",
    "                truncation=True,\n",
    "                max_length=self.max_len,\n",
    "            )\n",
    "            inputs = {k: v.to(self.device) for k, v in inputs.items()}\n",
    "            with torch.no_grad():\n",
    "                outputs = model(**inputs, output_hidden_states=True, return_dict=True)\n",
    "                last_hidden = outputs.hidden_states[-1]\n",
    "                emb_batch = last_hidden.mean(dim=1).cpu().numpy()\n",
    "            all_embeddings.append(emb_batch)\n",
    "\n",
    "        emb_tensor = np.vstack(all_embeddings)\n",
    "        print(\"Embedding shape:\", emb_tensor.shape)\n",
    "        self._save_embeddings(df, emb_tensor, id_col, output_csv)"
   ]
  },
  {
   "cell_type": "code",
   "execution_count": 4,
   "id": "caad3de4-1048-4a70-8ca0-5957ee48f7ea",
   "metadata": {},
   "outputs": [],
   "source": [
    "# ==========================\n",
    "# Create object\n",
    "# ==========================\n",
    "generator = LLMEmbeddingGenerator(batch_size=8, max_len=512, kmer_size=6)"
   ]
  },
  {
   "cell_type": "code",
   "execution_count": 11,
   "id": "efc0adc0-c4e3-4969-9148-c5c8daca55ec",
   "metadata": {},
   "outputs": [
    {
     "name": "stdout",
     "output_type": "stream",
     "text": [
      "=== [Nucleotide Transformer] ./data/windows_225/clinvar_binary_train_225.tsv → ./data/embeddings/clinvar_binary_train_embeddings_NT_225.csv\n",
      "Loaded 30000 sequences\n"
     ]
    },
    {
     "name": "stderr",
     "output_type": "stream",
     "text": [
      "/cluster/home/t131303uhn/anaconda3/envs/dna_bert2/lib/python3.8/site-packages/transformers/modeling_utils.py:446: FutureWarning: You are using `torch.load` with `weights_only=False` (the current default value), which uses the default pickle module implicitly. It is possible to construct malicious pickle data which will execute arbitrary code during unpickling (See https://github.com/pytorch/pytorch/blob/main/SECURITY.md#untrusted-models for more details). In a future release, the default value for `weights_only` will be flipped to `True`. This limits the functions that could be executed during unpickling. Arbitrary objects will no longer be allowed to be loaded via this mode unless they are explicitly allowlisted by the user via `torch.serialization.add_safe_globals`. We recommend you start setting `weights_only=True` for any use case where you don't have full control of the loaded file. Please open an issue on GitHub for any issues related to this experimental feature.\n",
      "  return torch.load(checkpoint_file, map_location=\"cpu\")\n",
      "100%|██████████| 3750/3750 [23:53<00:00,  2.62it/s]\n"
     ]
    },
    {
     "name": "stdout",
     "output_type": "stream",
     "text": [
      "Embedding shape: (30000, 1280)\n",
      "Saved embeddings to ./data/embeddings/clinvar_binary_train_embeddings_NT_225.csv\n"
     ]
    }
   ],
   "source": [
    "# Train embeddings\n",
    "generator.generate_embeddings_NT(\n",
    "    model_dir=\"./finetuned_models/nucleotide_transformer_pathogenic_classifier_225\",\n",
    "    input_tsv=\"./data/windows_225/clinvar_binary_train_225.tsv\",\n",
    "    output_csv=\"./data/embeddings/clinvar_binary_train_embeddings_NT_225.csv\"\n",
    ")"
   ]
  },
  {
   "cell_type": "code",
   "execution_count": 12,
   "id": "e5ed7583-628f-4d2e-8b59-c31ceb695400",
   "metadata": {},
   "outputs": [
    {
     "name": "stdout",
     "output_type": "stream",
     "text": [
      "=== [Nucleotide Transformer] ./data/windows_225/clinvar_binary_test_225.tsv → ./data/embeddings/clinvar_binary_test_embeddings_NT_225.csv\n",
      "Loaded 3000 sequences\n"
     ]
    },
    {
     "name": "stderr",
     "output_type": "stream",
     "text": [
      "/cluster/home/t131303uhn/anaconda3/envs/dna_bert2/lib/python3.8/site-packages/transformers/modeling_utils.py:446: FutureWarning: You are using `torch.load` with `weights_only=False` (the current default value), which uses the default pickle module implicitly. It is possible to construct malicious pickle data which will execute arbitrary code during unpickling (See https://github.com/pytorch/pytorch/blob/main/SECURITY.md#untrusted-models for more details). In a future release, the default value for `weights_only` will be flipped to `True`. This limits the functions that could be executed during unpickling. Arbitrary objects will no longer be allowed to be loaded via this mode unless they are explicitly allowlisted by the user via `torch.serialization.add_safe_globals`. We recommend you start setting `weights_only=True` for any use case where you don't have full control of the loaded file. Please open an issue on GitHub for any issues related to this experimental feature.\n",
      "  return torch.load(checkpoint_file, map_location=\"cpu\")\n",
      "100%|██████████| 375/375 [02:23<00:00,  2.62it/s]\n"
     ]
    },
    {
     "name": "stdout",
     "output_type": "stream",
     "text": [
      "Embedding shape: (3000, 1280)\n",
      "Saved embeddings to ./data/embeddings/clinvar_binary_test_embeddings_NT_225.csv\n"
     ]
    }
   ],
   "source": [
    "generator.generate_embeddings_NT(\n",
    "    model_dir=\"./finetuned_models/nucleotide_transformer_pathogenic_classifier_225\",\n",
    "    input_tsv=\"./data/windows_225/clinvar_binary_test_225.tsv\",\n",
    "    output_csv=\"./data/embeddings/clinvar_binary_test_embeddings_NT_225.csv\"\n",
    ")"
   ]
  },
  {
   "cell_type": "code",
   "execution_count": 7,
   "id": "bd4d0f81-42cc-45ca-95b6-e5a842958fa1",
   "metadata": {},
   "outputs": [
    {
     "name": "stdout",
     "output_type": "stream",
     "text": [
      "=== [GROVER] ./data/windows_225/clinvar_binary_train_225.tsv → ./data/embeddings/clinvar_binary_train_embeddings_GROVER_225.csv\n",
      "Loaded 30000 sequences\n"
     ]
    },
    {
     "name": "stderr",
     "output_type": "stream",
     "text": [
      "/cluster/home/t131303uhn/anaconda3/envs/dna_bert2/lib/python3.8/site-packages/transformers/modeling_utils.py:446: FutureWarning: You are using `torch.load` with `weights_only=False` (the current default value), which uses the default pickle module implicitly. It is possible to construct malicious pickle data which will execute arbitrary code during unpickling (See https://github.com/pytorch/pytorch/blob/main/SECURITY.md#untrusted-models for more details). In a future release, the default value for `weights_only` will be flipped to `True`. This limits the functions that could be executed during unpickling. Arbitrary objects will no longer be allowed to be loaded via this mode unless they are explicitly allowlisted by the user via `torch.serialization.add_safe_globals`. We recommend you start setting `weights_only=True` for any use case where you don't have full control of the loaded file. Please open an issue on GitHub for any issues related to this experimental feature.\n",
      "  return torch.load(checkpoint_file, map_location=\"cpu\")\n",
      "100%|██████████| 3750/3750 [05:12<00:00, 12.01it/s]\n"
     ]
    },
    {
     "name": "stdout",
     "output_type": "stream",
     "text": [
      "Embedding shape: (30000, 768)\n",
      "Saved embeddings to ./data/embeddings/clinvar_binary_train_embeddings_GROVER_225.csv\n"
     ]
    }
   ],
   "source": [
    "generator.generate_embeddings_GROVER(\n",
    "    model_dir=\"./finetuned_models/grover_pathogenic_classifier_225\",\n",
    "    input_tsv=\"./data/windows_225/clinvar_binary_train_225.tsv\",\n",
    "    output_csv=\"./data/embeddings/clinvar_binary_train_embeddings_GROVER_225.csv\"\n",
    ")"
   ]
  },
  {
   "cell_type": "code",
   "execution_count": 8,
   "id": "3f4bcb4f-2a8d-4420-9eb4-17b4302a72fc",
   "metadata": {},
   "outputs": [
    {
     "name": "stdout",
     "output_type": "stream",
     "text": [
      "=== [GROVER] ./data/windows_225/clinvar_binary_test_225.tsv → ./data/embeddings/clinvar_binary_test_embeddings_GROVER_225.csv\n",
      "Loaded 3000 sequences\n"
     ]
    },
    {
     "name": "stderr",
     "output_type": "stream",
     "text": [
      "/cluster/home/t131303uhn/anaconda3/envs/dna_bert2/lib/python3.8/site-packages/transformers/modeling_utils.py:446: FutureWarning: You are using `torch.load` with `weights_only=False` (the current default value), which uses the default pickle module implicitly. It is possible to construct malicious pickle data which will execute arbitrary code during unpickling (See https://github.com/pytorch/pytorch/blob/main/SECURITY.md#untrusted-models for more details). In a future release, the default value for `weights_only` will be flipped to `True`. This limits the functions that could be executed during unpickling. Arbitrary objects will no longer be allowed to be loaded via this mode unless they are explicitly allowlisted by the user via `torch.serialization.add_safe_globals`. We recommend you start setting `weights_only=True` for any use case where you don't have full control of the loaded file. Please open an issue on GitHub for any issues related to this experimental feature.\n",
      "  return torch.load(checkpoint_file, map_location=\"cpu\")\n",
      "100%|██████████| 375/375 [00:31<00:00, 11.75it/s]\n"
     ]
    },
    {
     "name": "stdout",
     "output_type": "stream",
     "text": [
      "Embedding shape: (3000, 768)\n",
      "Saved embeddings to ./data/embeddings/clinvar_binary_test_embeddings_GROVER_225.csv\n"
     ]
    }
   ],
   "source": [
    "# Test embeddings\n",
    "generator.generate_embeddings_GROVER(\n",
    "    model_dir=\"./finetuned_models/grover_pathogenic_classifier_225\",\n",
    "    input_tsv=\"./data/windows_225/clinvar_binary_test_225.tsv\",\n",
    "    output_csv=\"./data/embeddings/clinvar_binary_test_embeddings_GROVER_225.csv\"\n",
    ")\n"
   ]
  },
  {
   "cell_type": "code",
   "execution_count": 9,
   "id": "601bfe30-47db-46f2-8e42-31f3ddb47fb0",
   "metadata": {},
   "outputs": [
    {
     "name": "stdout",
     "output_type": "stream",
     "text": [
      "=== [DNABERT-6] ./data/windows_225/clinvar_binary_train_225.tsv → ./data/embeddings/clinvar_binary_train_embeddings_DNABERT6_225.csv\n",
      "Loaded 30000 sequences\n"
     ]
    },
    {
     "name": "stderr",
     "output_type": "stream",
     "text": [
      "/cluster/home/t131303uhn/anaconda3/envs/dna_bert2/lib/python3.8/site-packages/transformers/modeling_utils.py:446: FutureWarning: You are using `torch.load` with `weights_only=False` (the current default value), which uses the default pickle module implicitly. It is possible to construct malicious pickle data which will execute arbitrary code during unpickling (See https://github.com/pytorch/pytorch/blob/main/SECURITY.md#untrusted-models for more details). In a future release, the default value for `weights_only` will be flipped to `True`. This limits the functions that could be executed during unpickling. Arbitrary objects will no longer be allowed to be loaded via this mode unless they are explicitly allowlisted by the user via `torch.serialization.add_safe_globals`. We recommend you start setting `weights_only=True` for any use case where you don't have full control of the loaded file. Please open an issue on GitHub for any issues related to this experimental feature.\n",
      "  return torch.load(checkpoint_file, map_location=\"cpu\")\n",
      "100%|██████████| 3750/3750 [05:25<00:00, 11.53it/s]\n"
     ]
    },
    {
     "name": "stdout",
     "output_type": "stream",
     "text": [
      "Embedding shape: (30000, 768)\n",
      "Saved embeddings to ./data/embeddings/clinvar_binary_train_embeddings_DNABERT6_225.csv\n"
     ]
    }
   ],
   "source": [
    "generator.generate_embeddings_DNABERT_6(\n",
    "    model_dir=\"./finetuned_models/dnabert6_pathogenic_classifier_225\",\n",
    "    input_tsv=\"./data/windows_225/clinvar_binary_train_225.tsv\",\n",
    "    output_csv=\"./data/embeddings/clinvar_binary_train_embeddings_DNABERT6_225.csv\"\n",
    ")"
   ]
  },
  {
   "cell_type": "code",
   "execution_count": 7,
   "id": "39c42e8c-8f41-41dd-9121-2b3afa6f9499",
   "metadata": {},
   "outputs": [
    {
     "name": "stdout",
     "output_type": "stream",
     "text": [
      "=== [DNABERT-6] ./data/windows_225/clinvar_binary_test_225.tsv → ./data/embeddings/clinvar_binary_test_embeddings_DNABERT6_225.csv\n",
      "Loaded 3000 sequences\n"
     ]
    },
    {
     "name": "stderr",
     "output_type": "stream",
     "text": [
      "/cluster/home/t131303uhn/anaconda3/envs/dna_bert2/lib/python3.8/site-packages/transformers/modeling_utils.py:446: FutureWarning: You are using `torch.load` with `weights_only=False` (the current default value), which uses the default pickle module implicitly. It is possible to construct malicious pickle data which will execute arbitrary code during unpickling (See https://github.com/pytorch/pytorch/blob/main/SECURITY.md#untrusted-models for more details). In a future release, the default value for `weights_only` will be flipped to `True`. This limits the functions that could be executed during unpickling. Arbitrary objects will no longer be allowed to be loaded via this mode unless they are explicitly allowlisted by the user via `torch.serialization.add_safe_globals`. We recommend you start setting `weights_only=True` for any use case where you don't have full control of the loaded file. Please open an issue on GitHub for any issues related to this experimental feature.\n",
      "  return torch.load(checkpoint_file, map_location=\"cpu\")\n",
      "100%|██████████| 375/375 [00:32<00:00, 11.52it/s]\n"
     ]
    },
    {
     "name": "stdout",
     "output_type": "stream",
     "text": [
      "Embedding shape: (3000, 768)\n",
      "Saved embeddings to ./data/embeddings/clinvar_binary_test_embeddings_DNABERT6_225.csv\n"
     ]
    }
   ],
   "source": [
    "generator.generate_embeddings_DNABERT_6(\n",
    "    model_dir=\"./finetuned_models/dnabert6_pathogenic_classifier_225\",\n",
    "    input_tsv=\"./data/windows_225/clinvar_binary_test_225.tsv\",\n",
    "    output_csv=\"./data/embeddings/clinvar_binary_test_embeddings_DNABERT6_225.csv\"\n",
    ")"
   ]
  }
 ],
 "metadata": {
  "kernelspec": {
   "display_name": "Python 3 (ipykernel)",
   "language": "python",
   "name": "python3"
  },
  "language_info": {
   "codemirror_mode": {
    "name": "ipython",
    "version": 3
   },
   "file_extension": ".py",
   "mimetype": "text/x-python",
   "name": "python",
   "nbconvert_exporter": "python",
   "pygments_lexer": "ipython3",
   "version": "3.8.20"
  }
 },
 "nbformat": 4,
 "nbformat_minor": 5
}
